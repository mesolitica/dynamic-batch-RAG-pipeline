{
 "cells": [
  {
   "cell_type": "code",
   "execution_count": 1,
   "id": "9d76a61b",
   "metadata": {},
   "outputs": [],
   "source": [
    "import requests"
   ]
  },
  {
   "cell_type": "code",
   "execution_count": 11,
   "id": "3808afa9",
   "metadata": {},
   "outputs": [],
   "source": [
    "data = {\n",
    "    'url': 'https://huggingface.co/'\n",
    "}\n",
    "\n",
    "r = requests.post('http://localhost:7088/url_to_pdf', json = data)"
   ]
  },
  {
   "cell_type": "code",
   "execution_count": 13,
   "id": "0f62c90a",
   "metadata": {},
   "outputs": [],
   "source": [
    "with open('huggingface.pdf', 'wb') as fopen:\n",
    "    fopen.write(r._content)"
   ]
  },
  {
   "cell_type": "code",
   "execution_count": 14,
   "id": "6700b25a",
   "metadata": {},
   "outputs": [
    {
     "data": {
      "text/html": [
       "\n",
       "        <iframe\n",
       "            width=\"600\"\n",
       "            height=\"300\"\n",
       "            src=\"huggingface.pdf\"\n",
       "            frameborder=\"0\"\n",
       "            allowfullscreen\n",
       "            \n",
       "        ></iframe>\n",
       "        "
      ],
      "text/plain": [
       "<IPython.lib.display.IFrame at 0x7f587c179e70>"
      ]
     },
     "execution_count": 14,
     "metadata": {},
     "output_type": "execute_result"
    }
   ],
   "source": [
    "from IPython.display import IFrame\n",
    "IFrame('huggingface.pdf', width=600, height=300)"
   ]
  },
  {
   "cell_type": "code",
   "execution_count": null,
   "id": "a9bfd597",
   "metadata": {},
   "outputs": [],
   "source": []
  }
 ],
 "metadata": {
  "kernelspec": {
   "display_name": "python3.10",
   "language": "python",
   "name": "python3.10"
  },
  "language_info": {
   "codemirror_mode": {
    "name": "ipython",
    "version": 3
   },
   "file_extension": ".py",
   "mimetype": "text/x-python",
   "name": "python",
   "nbconvert_exporter": "python",
   "pygments_lexer": "ipython3",
   "version": "3.10.14"
  }
 },
 "nbformat": 4,
 "nbformat_minor": 5
}
